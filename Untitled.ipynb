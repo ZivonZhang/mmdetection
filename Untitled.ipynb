{
 "cells": [
  {
   "cell_type": "code",
   "execution_count": 10,
   "metadata": {},
   "outputs": [],
   "source": [
    "import mmcv\n",
    "from mmcv.runner import load_checkpoint\n",
    "from mmdet.models import build_detector\n",
    "from mmdet.apis import inference_detector, show_result\n",
    "\n",
    "cfg = mmcv.Config.fromfile('configs/hangkongbei/faster_rcnn_r50_fpn_1x_voc0712.py')\n",
    "cfg.model.pretrained = None\n",
    "\n",
    "# construct the model and load checkpoint\n",
    "model = build_detector(cfg.model, test_cfg=cfg.test_cfg)\n",
    "_ = load_checkpoint(model, 'work_dirs/faster_rcnn_r50_fpn_1x_hangkongbei/latest.pth')\n",
    "\n",
    "# test a single image\n",
    "\n",
    "img = mmcv.imread('/home/xuhao/dataset/hangkongbei/VOC2007/JPEGImages/00000003.jpg')\n",
    "result = inference_detector(model, img, cfg)\n",
    "show_result(img, result,dataset='hangkongbei', out_file='/home/xuhao/mmdetection/imgResult/3.jpg')\n",
    "#show_result(img, result,dataset='voc')\n",
    "\n"
   ]
  },
  {
   "cell_type": "code",
   "execution_count": null,
   "metadata": {},
   "outputs": [],
   "source": []
  },
  {
   "cell_type": "code",
   "execution_count": null,
   "metadata": {},
   "outputs": [],
   "source": []
  }
 ],
 "metadata": {
  "kernelspec": {
   "display_name": "Python 3",
   "language": "python",
   "name": "python3"
  },
  "language_info": {
   "codemirror_mode": {
    "name": "ipython",
    "version": 3
   },
   "file_extension": ".py",
   "mimetype": "text/x-python",
   "name": "python",
   "nbconvert_exporter": "python",
   "pygments_lexer": "ipython3",
   "version": "3.6.4"
  }
 },
 "nbformat": 4,
 "nbformat_minor": 2
}
